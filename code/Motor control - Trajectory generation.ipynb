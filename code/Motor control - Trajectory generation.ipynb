{
 "cells": [
  {
   "cell_type": "markdown",
   "metadata": {},
   "source": [
    "# DMP tutorial\n",
    "\n",
    "## Introduction\n",
    "\n",
    "Dynamical movement primitives are dynamical systems that provide a means of robust, generalizable trajectory generation. I give an overview of their origins formally on my blog (https://studywolf.wordpress.com/category/robotics/dynamic-movement-primitive/) and here we'll do a quick overview plus look at their implementation in neurons. \n",
    "\n",
    "They have two forms, discrete and rhythmic, and in this tutorial we'll be looking at using DMPs for rhythmic pattern generation. \n",
    "\n",
    "\n",
    "### Basics \n",
    "\n",
    "There are two main parts to DMPs, the point attractors and the forcing function. For each degree-of-freedom that you would like to generate a pattern for a separate point attractor is required. In this notebook we'll be looking at generating 2D patterns, so we'll need two point attractors. Let's look at the code for generating point attractors! "
   ]
  },
  {
   "cell_type": "code",
   "execution_count": null,
   "metadata": {
    "collapsed": false
   },
   "outputs": [],
   "source": [
    "import numpy as np\n",
    "\n",
    "import nengo\n",
    "\n",
    "model = nengo.Network()\n",
    "with model: \n",
    "    # linearly increasing system with an oscillatory biased input\n",
    "    ramp_osc = nengo.Ensemble(n_neurons=500, dimensions=2, radius=.01)\n",
    "    # recurrent connections\n",
    "    nengo.Connection(ramp_osc, ramp_osc, \n",
    "                 transform=np.eye(2) + \\\n",
    "                            np.array([[1, -1],\n",
    "                                      [1, 1]]))\n",
    "\n",
    "    # set the number of neurons = to the number of basis functions specified\n",
    "    ramp = nengo.Ensemble(n_neurons=500, dimensions=1)\n",
    "\n",
    "    # make first dimensions of forcing function ensemble an integrator\n",
    "    nengo.Connection(ramp, ramp, synapse=.1)\n",
    "\n",
    "    # set up the input to the integrating first dimensions \n",
    "    nengo.Connection(ramp_osc, ramp, \n",
    "                 transform=.015, \n",
    "                 function=lambda x: x[0]+.5)\n",
    "    \n",
    "from nengo_gui.ipython import IPythonViz\n",
    "IPythonViz(model, cfg='ramp.viz.cfg')"
   ]
  },
  {
   "cell_type": "code",
   "execution_count": null,
   "metadata": {
    "collapsed": false
   },
   "outputs": [],
   "source": [
    "def gen_oscillator(model, speed=.05):\n",
    "    with model:\n",
    "        # ------------------ Oscillator -------------------\n",
    "        osc = nengo.Ensemble(n_neurons=500, dimensions=2, label='oscillator')\n",
    "        # recurrent connections\n",
    "        nengo.Connection(osc, osc,\n",
    "                          transform=np.eye(2) + \\\n",
    "                                    np.array([[1, -1],\n",
    "                                              [1, 1]]) * speed)\n",
    "        return osc\n",
    "    \n",
    "import numpy as np\n",
    "import nengo\n",
    "\n",
    "model = nengo.Network('Oscillator')\n",
    "with m: \n",
    "    osc = gen_oscillator(m, speed=.05)\n",
    "    output = nengo.Ensemble(1, 1, neuron_type=nengo.Direct())\n",
    "     \n",
    "    nengo.Connection(osc, output, \n",
    "                     function=lambda x: np.arctan2(x[0], x[1]))\n",
    "        \n",
    "from nengo_gui.ipython import IPythonViz\n",
    "IPythonViz(m, cfg='osc.viz.cfg')"
   ]
  },
  {
   "cell_type": "markdown",
   "metadata": {},
   "source": [
    "### The point attractor\n",
    "\n",
    "\n"
   ]
  },
  {
   "cell_type": "code",
   "execution_count": null,
   "metadata": {
    "collapsed": false
   },
   "outputs": [],
   "source": [
    "def gen_point_attractor(model, goal, n_neurons=200, alpha=10, beta=10/4.):\n",
    "    # create an ensemble with point attractor dynamics\n",
    "    synapse = 1\n",
    "    with model:\n",
    "        # set up two integrators to represent y and dy\n",
    "        y = nengo.Ensemble(n_neurons=n_neurons, dimensions=1, radius=1.5, label='y')\n",
    "        dy = nengo.Ensemble(n_neurons=n_neurons, dimensions=1, radius=5, label='dy')\n",
    "        nengo.Connection(y, y, synapse=synapse)\n",
    "        nengo.Connection(dy, dy, synapse=synapse)\n",
    "        \n",
    "        nengo.Connection(dy, y, synapse=synapse)\n",
    "        # implement ddy = alpha * (beta * (goal - y) - dy)\n",
    "        nengo.Connection(goal, dy, transform=alpha*beta, synapse=synapse)\n",
    "        nengo.Connection(y, dy, transform=-alpha*beta, synapse=synapse)\n",
    "        nengo.Connection(dy, dy, transform=-alpha, synapse=synapse)\n",
    "        \n",
    "        return y,dy"
   ]
  },
  {
   "cell_type": "code",
   "execution_count": null,
   "metadata": {
    "collapsed": false
   },
   "outputs": [],
   "source": [
    "m = nengo.Network('Point attractor')\n",
    "with m: \n",
    "\n",
    "    # --------------------- Input --------------------------\n",
    "    goal = nengo.Node(output=[.8, -.8])\n",
    "    \n",
    "    # ------------------- Point Attractors --------------------\n",
    "    y1,dy1 = gen_point_attractor(m, goal[0])\n",
    "    y2,dy2 = gen_point_attractor(m, goal[1])\n",
    "    \n",
    "    # ------------------ Combine output ----------------------\n",
    "    combine = nengo.Ensemble(n_neurons=500, dimensions=2, radius=np.sqrt(2))\n",
    "    \n",
    "    nengo.Connection(y1[0], combine[0], synapse=.01)\n",
    "    nengo.Connection(y2[0], combine[1], synapse=.01)\n",
    "\n",
    "from nengo_gui.ipython import IPythonViz\n",
    "IPythonViz(m, cfg='point_attractor.viz.cfg')"
   ]
  },
  {
   "cell_type": "markdown",
   "metadata": {},
   "source": [
    "### The forcing function\n",
    "\n",
    "The second part of DMPs is the forcing function. For rhythmic DMPs we use an oscillator, and from that oscillator we'll decode a function. Let's look at how to program an oscillator and decode a function from it.\n",
    "\n",
    "First we'll generate the function we'd like from some arbitrary trajectory (can be anything!):"
   ]
  },
  {
   "cell_type": "code",
   "execution_count": null,
   "metadata": {
    "collapsed": false
   },
   "outputs": [],
   "source": [
    "import numpy as np\n",
    "from scipy import interpolate\n",
    "\n",
    "# our desired path\n",
    "heart_path = np.load('heart_traj.npz')['arr_0'][:,0] * 10\n",
    "    \n",
    "# generate range of values to assign our desired path to\n",
    "x = np.linspace(-np.pi, np.pi, len(heart_path))\n",
    "# generate function to interpolate the desired trajectory\n",
    "path_gen = interpolate.interp1d(x, heart_path / 10.0)\n",
    "\n",
    "import matplotlib.pyplot as plt\n",
    "%matplotlib inline\n",
    "plt.plot(np.linspace(-np.pi, np.pi, len(heart_path)), \n",
    "         path_gen(np.linspace(-np.pi, np.pi, len(heart_path))))\n",
    "plt.show()"
   ]
  },
  {
   "cell_type": "code",
   "execution_count": null,
   "metadata": {
    "collapsed": false,
    "scrolled": false
   },
   "outputs": [],
   "source": [
    "import numpy as np\n",
    "\n",
    "import nengo\n",
    "\n",
    "m = nengo.Network('Oscillator')\n",
    "with m: \n",
    "    osc = gen_oscillator(m, speed=.05)\n",
    "    output1 = nengo.Ensemble(n_neurons=1, dimensions=1, neuron_type=nengo.Direct())\n",
    "    output2 = nengo.Ensemble(n_neurons=1, dimensions=1, neuron_type=nengo.Direct())\n",
    "    \n",
    "    # decode out a rhythmic path from our oscillator\n",
    "    def force(x, function, gain=1):\n",
    "        # calculate the angle theta\n",
    "        theta = np.arctan2(x[0], x[1])\n",
    "        # decode our function off of the theta value\n",
    "        return function(theta) * gain\n",
    "    nengo.Connection(osc, output1, function=lambda x: force(x, path_gen, -1))\n",
    "    nengo.Connection(osc, output2, function=lambda x: force(x, path_gen))\n",
    "\n",
    "from nengo_gui.ipython import IPythonViz\n",
    "IPythonViz(m, cfg='oscillator.viz.cfg')"
   ]
  },
  {
   "cell_type": "markdown",
   "metadata": {},
   "source": [
    "### Combining point attractor and forcing function\n",
    "\n",
    "Now that we can generate point attractors and decode rhythmic patterns off of oscillators, we have to put them together. \n",
    "\n",
    "Note that we want to generate a set of forces off of the oscillator, rather than a set of positions. So the function that we want to decode off of the oscillator can be calculated from the desired position trajectory by finding the desired acceleration trajectory, and subtracting out the effects of the point attractors. \n",
    "\n",
    "Once we have this function, we can simply connect the decoded oscillator output to the point attractory dynamics! "
   ]
  },
  {
   "cell_type": "code",
   "execution_count": null,
   "metadata": {
    "collapsed": false
   },
   "outputs": [],
   "source": [
    "import numpy as np\n",
    "from scipy import interpolate\n",
    "\n",
    "def gen_forcing_functions(y_des, dt=.001, alpha=10, beta=10/4.):\n",
    "        \n",
    "        # scale our trajectory and find the center point\n",
    "        y_des = y_des.T / 1e5\n",
    "        goal = np.sum(y_des, axis=1) / y_des.shape[1]\n",
    "                \n",
    "        # interpolate our desired trajectory to smooth out the sampling\n",
    "        num_samples = 10\n",
    "        path = np.zeros((y_des.shape[0], num_samples))\n",
    "        x = np.linspace(-np.pi, np.pi, y_des.shape[1])\n",
    "        for d in range(y_des.shape[0]):\n",
    "            path_gen = interpolate.interp1d(x, y_des[d])\n",
    "            for ii,t in enumerate(np.linspace(-np.pi, np.pi, num_samples)):\n",
    "                path[d, ii] = path_gen(t)\n",
    "        y_des = path\n",
    "    \n",
    "        # calculate velocity of y_des\n",
    "        dy_des = np.diff(y_des) / dt\n",
    "        # add zero to the beginning of every row\n",
    "        dy_des = np.hstack((np.zeros((y_des.shape[0], 1)), dy_des))\n",
    "\n",
    "        # calculate acceleration of y_des\n",
    "        ddy_des = np.diff(dy_des) / dt\n",
    "        # add zero to the beginning of every row\n",
    "        ddy_des = np.hstack((np.zeros((y_des.shape[0], 1)), ddy_des))\n",
    "\n",
    "        forcing_functions = []\n",
    "        for d in range(y_des.shape[0]):\n",
    "            # find the force required to move along this trajectory\n",
    "            # by subtracting out the effects of the point attractor \n",
    "            force = ddy_des[d] - alpha * \\\n",
    "                            (beta * (goal[d] - y_des[d]) - \\\n",
    "                             dy_des[d])\n",
    "            # generate another interpolation function we can use \n",
    "            # to now train up our decoded oscillator output\n",
    "            forcing_functions.append(lambda x, force=force:\n",
    "                                    interpolate.interp1d(np.linspace(-np.pi, np.pi, num_samples), force)(x))\n",
    "            \n",
    "        return forcing_functions "
   ]
  },
  {
   "cell_type": "code",
   "execution_count": null,
   "metadata": {
    "collapsed": false,
    "scrolled": false
   },
   "outputs": [],
   "source": [
    "import nengo\n",
    "\n",
    "m = nengo.Network()\n",
    "with m: \n",
    "    # --------------------- Inputs --------------------------\n",
    "    in_goal = nengo.Node(output=[0,0])\n",
    "\n",
    "    # ------------------- Point Attractors --------------------\n",
    "    yz1 = gen_point_attractor(m, in_goal[0], n_neurons=1000)\n",
    "    yz2 = gen_point_attractor(m, in_goal[1], n_neurons=1000)\n",
    "    \n",
    "    # -------------------- Oscillators ----------------------\n",
    "    osc = gen_oscillator(m, speed=.05)\n",
    "    \n",
    "    # generate our forcing function\n",
    "    y_des = np.load('heart_traj.npz')['arr_0']\n",
    "    forcing_functions = gen_forcing_functions(y_des)\n",
    "    \n",
    "    def force(x, function, gain=1):\n",
    "        # calculate the angle theta\n",
    "        theta = np.arctan2(x[0], x[1])\n",
    "        # decode our function off of the theta value\n",
    "        return function(theta) * gain\n",
    "    # connect oscillator to point attractor\n",
    "    nengo.Connection(osc, yz1[1], function=lambda x: force(x, forcing_functions[0]))\n",
    "    nengo.Connection(osc, yz2[1], function=lambda x: force(x, forcing_functions[1]))\n",
    "    \n",
    "    # output for easy viewing\n",
    "    output = nengo.Ensemble(n_neurons=1, dimensions=2, neuron_type=nengo.Direct())\n",
    "    nengo.Connection(yz1[0], output[0], synapse=.01)\n",
    "    nengo.Connection(yz2[0], output[1], synapse=.01)\n",
    "    \n",
    "from nengo_gui.ipython import IPythonViz\n",
    "IPythonViz(m, cfg='DMP.viz.cfg')"
   ]
  },
  {
   "cell_type": "markdown",
   "metadata": {
    "collapsed": true
   },
   "source": [
    "And we have a rhythmic pattern generator capable of generating our desired trajectory at different points in state space! From here the model can be extended by adding a spatial scaling term (by multiplying the decoded oscillator output by a gain term) or adding temporal scaling (by using a controlled oscillator). \n",
    "\n",
    "Additionally, other dynamical systems can be added to incorporate effects like obstacle avoidance, simply by connecting up their dynamics to our point attractors! There are a ton of other extensions, such as using DMPs to generate expected sensory trajectories and outputting corrective signals if there's deviation during movement. \n",
    "\n",
    "Publications about some of the extensions can be found here: http://www-clmc.usc.edu/Resources/Publications"
   ]
  },
  {
   "cell_type": "code",
   "execution_count": null,
   "metadata": {
    "collapsed": true
   },
   "outputs": [],
   "source": []
  }
 ],
 "metadata": {
  "kernelspec": {
   "display_name": "Python 3",
   "language": "python",
   "name": "python3"
  },
  "language_info": {
   "codemirror_mode": {
    "name": "ipython",
    "version": 3
   },
   "file_extension": ".py",
   "mimetype": "text/x-python",
   "name": "python",
   "nbconvert_exporter": "python",
   "pygments_lexer": "ipython3",
   "version": "3.5.2"
  }
 },
 "nbformat": 4,
 "nbformat_minor": 0
}
