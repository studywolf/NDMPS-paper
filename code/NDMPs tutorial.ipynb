{
 "cells": [
  {
   "cell_type": "markdown",
   "metadata": {},
   "source": [
    "# NDMPs tutorial\n",
    "\n",
    "## Introduction\n",
    "\n",
    "In the control of motor systems, it often comes up that you would like to execute some pre-determined trajectory, like walking, running, throwing a frisbee, or handwriting.\n",
    "\n",
    "Dynamical movement primitives (DMPs) are robust, generalizable trajectory generation systems. I give an overview of their origins and some use cases on my blog https://studywolf.wordpress.com/category/robotics/dynamic-movement-primitive/\n",
    "\n",
    "In this tutorial, we'll be looking at a neural implementation of DMPs (NDMPs).\n",
    "\n",
    "\n",
    "### Basics \n",
    "\n",
    "There are two main parts to DMPs, the point attractors and the forcing function. \n",
    "\n",
    "#### Point attractors\n",
    "\n",
    "For each degree-of-freedom in your movement a separate point attractor is required. \n",
    "\n",
    "For discrete movements, the point attractor simply moves in a straight line from the starting point of the trajectory to the ending point of the trajectory.\n"
   ]
  },
  {
   "cell_type": "code",
   "execution_count": null,
   "metadata": {
    "collapsed": false
   },
   "outputs": [],
   "source": [
    "import numpy as np\n",
    "import matplotlib.pyplot as plt\n",
    "%matplotlib inline\n",
    "\n",
    "def point_attractor(start, target, dt=.001, alpha=400, beta=100):\n",
    "    x_track = [np.copy(start)]\n",
    "    x = np.array(start, dtype=float)  # initial position\n",
    "    dx = np.array([0, 0], dtype=float)  # initial velocity\n",
    "    for ii in range(30):\n",
    "        # ddx = alpha * (beta * (target -x))  # no velocity compensation\n",
    "        ddx = alpha * (beta * (target - x) - dx)  # <-- point attractor dynamics\n",
    "        dx += ddx * dt \n",
    "        x += dx * dt\n",
    "        x_track.append(np.copy(x))\n",
    "        \n",
    "    return np.array(x_track)"
   ]
  },
  {
   "cell_type": "code",
   "execution_count": null,
   "metadata": {
    "collapsed": false
   },
   "outputs": [],
   "source": [
    "# Discrete system point attractor\n",
    "\n",
    "start = [0, 0]  # change this and run!\n",
    "end = [1, 1]  # change this and run!\n",
    "trajectory = point_attractor(start, end)\n",
    "\n",
    "plt.plot(start[0], start[1], 'bx', mew=4)  # blue x at start position\n",
    "plt.plot(end[0], end[1], 'gx', mew=4)  # green x at end position\n",
    "plt.plot(trajectory[:, 0], trajectory[:, 1], '.')\n",
    "plt.xlim([-2, 2])\n",
    "plt.ylim([-2, 2])"
   ]
  },
  {
   "cell_type": "markdown",
   "metadata": {},
   "source": [
    "For rhythmic movements, the start and end point are the same, so the point attractor just holds the system at the same position. Which, granted, is not very exciting to see. See for yourself!"
   ]
  },
  {
   "cell_type": "code",
   "execution_count": null,
   "metadata": {
    "collapsed": false
   },
   "outputs": [],
   "source": [
    "# Rhythmic system point attractor\n",
    "\n",
    "start = end =[0, 0]  # change this and run!\n",
    "trajectory = point_attractor(start, end)\n",
    "\n",
    "plt.plot(start[0], start[1], 'bx', mew=4)  # blue x at start position\n",
    "plt.plot(end[0], end[1], 'gx', mew=4)  # green x at end position\n",
    "plt.plot(trajectory[:, 0], trajectory[:, 1], '.')\n",
    "plt.xlim([-2, 2])\n",
    "plt.ylim([-2, 2])"
   ]
  },
  {
   "cell_type": "markdown",
   "metadata": {},
   "source": [
    "#### Forcing functions\n",
    "\n",
    "The second part of the DMP system is the forcing function. The idea here is simply that the some additional force is added in to the point attractor dynamics, that pushes them along a path that is no longer straight as they move to the end point (discrete movements) or try to hold a position (rhythmic movements)."
   ]
  },
  {
   "cell_type": "code",
   "execution_count": null,
   "metadata": {
    "collapsed": true
   },
   "outputs": [],
   "source": [
    "def point_attractor_ff(start, target, ff, dt=.001, alpha=400, beta=100):\n",
    "    \" ff is a vector of forces to apply over time \"\n",
    "    x_track = [np.copy(start)]\n",
    "    x = np.array(start, dtype=float)  # initial position\n",
    "    dx = np.array([0, 0], dtype=float)  # initial velocity\n",
    "    for ii in range(len(ff)):\n",
    "        ddx = alpha * (beta * (target - x) - dx) + ff[ii]\n",
    "        dx += ddx * dt \n",
    "        x += dx * dt\n",
    "        x_track.append(np.copy(x))\n",
    "        \n",
    "    return np.array(x_track)"
   ]
  },
  {
   "cell_type": "code",
   "execution_count": null,
   "metadata": {
    "collapsed": false
   },
   "outputs": [],
   "source": [
    "# Discrete system point attractor with forcing function\n",
    "\n",
    "ff = np.vstack([\n",
    "    -np.sin(np.arange(0, 10, .1)),\n",
    "    np.cos(np.arange(0, 10, .1))]).T * 2e4\n",
    "start = [0, 0]  # change this and run!\n",
    "end = [1, 0]  # change this and run!\n",
    "trajectory = point_attractor_ff(start, end, ff)\n",
    "\n",
    "plt.plot(start[0], start[1], 'bx', mew=4)  # blue x at start position\n",
    "plt.plot(end[0], end[1], 'gx', mew=4)  # green x at end position\n",
    "plt.plot(trajectory[:, 0], trajectory[:, 1], '.')\n",
    "plt.xlim([-2, 2])\n",
    "plt.ylim([-2, 2])"
   ]
  },
  {
   "cell_type": "code",
   "execution_count": null,
   "metadata": {
    "collapsed": false
   },
   "outputs": [],
   "source": [
    "# Rhythmic system point attractor with forcing function\n",
    "\n",
    "ff = np.vstack([\n",
    "    np.sin(np.arange(0, 10, .1)),\n",
    "    np.cos(np.arange(0, 10, .1))]).T * 2e4\n",
    "start = end = [0, 0]  # change this and run!\n",
    "trajectory = point_attractor_ff(start, end, ff)\n",
    "\n",
    "plt.plot(start[0], start[1], 'bx', mew=4)  # blue x at start position\n",
    "plt.plot(end[0], end[1], 'gx', mew=4)  # green x at end position\n",
    "plt.plot(trajectory[:, 0], trajectory[:, 1], '.')\n",
    "plt.xlim([-2, 2])\n",
    "plt.ylim([-2, 2])"
   ]
  },
  {
   "cell_type": "markdown",
   "metadata": {},
   "source": [
    "#### How to get the trajectory you want\n",
    "\n",
    "So at this point, we have point attractors and we can apply forces to them to make them move in fun ways, but how do we get them to move in a _specific_ way?\n",
    "\n",
    "Let's say that we want to draw out a fun heart shape:"
   ]
  },
  {
   "cell_type": "code",
   "execution_count": null,
   "metadata": {
    "collapsed": false
   },
   "outputs": [],
   "source": [
    "heart = np.load('models/handwriting_trajectories/heart.npz')['arr_0']\n",
    "heart = np.vstack([heart, heart[-1]])\n",
    "plt.plot(heart[:, 0], heart[:, 1], 'r--')"
   ]
  },
  {
   "cell_type": "markdown",
   "metadata": {},
   "source": [
    "The forces that we apply to our point attractor affect acceleration, so what we need to do is find out what accelerations will give us the above trajectory. Let's assume our timestep is 1ms when drawing out that heart trajectory."
   ]
  },
  {
   "cell_type": "code",
   "execution_count": null,
   "metadata": {
    "collapsed": false
   },
   "outputs": [],
   "source": [
    "dt = 0.001\n",
    "\n",
    "# initial velocity is zero\n",
    "d_heart = np.vstack([[0, 0], np.diff(heart, axis=0) / dt])  \n",
    "# final acceleration is zero\n",
    "dd_heart = np.vstack([np.diff(d_heart, axis=0) / dt, [0, 0]]) \n",
    "plt.subplot(2, 1, 1)\n",
    "plt.plot(d_heart)\n",
    "plt.title('Desired velocities')\n",
    "plt.subplot(2, 1, 2)\n",
    "plt.plot(dd_heart)\n",
    "plt.title('Desired accelerations')\n",
    "plt.tight_layout()"
   ]
  },
  {
   "cell_type": "markdown",
   "metadata": {},
   "source": [
    "So if there were no other forces affecting the system, those are the forces that we would need to apply to draw out a heart. HOWEVER. There _are_ other forces affecting the system, namely those point attractor dynamics that draw the system from the start point to the end point. So we need to account for those."
   ]
  },
  {
   "cell_type": "code",
   "execution_count": null,
   "metadata": {
    "collapsed": false
   },
   "outputs": [],
   "source": [
    "# For the discrete system\n",
    "\n",
    "alpha = 400\n",
    "beta = 100\n",
    "\n",
    "start = heart[-1]\n",
    "end = heart[-1]  # change this and run!\n",
    "forces = dd_heart - (alpha * (beta * (end - heart) - d_heart))\n",
    "\n",
    "# plot the desired accelerations and forces to apply to\n",
    "# achieve the desired accelerations\n",
    "plt.subplot(2, 1, 1)\n",
    "plt.plot(dd_heart[:, 0], alpha=.5)\n",
    "plt.gca().set_prop_cycle(None)\n",
    "plt.plot(forces[:, 0])\n",
    "plt.legend(['desired acceleration', 'forces to apply'])\n",
    "plt.title('Forces to apply')\n",
    "plt.subplot(2, 1, 2)\n",
    "plt.plot(dd_heart[:, 1], alpha=.5)\n",
    "plt.gca().set_prop_cycle(None)\n",
    "plt.plot(forces[:,1])\n",
    "plt.legend(['desired acceleration', 'forces to apply'])"
   ]
  },
  {
   "cell_type": "code",
   "execution_count": null,
   "metadata": {
    "collapsed": false
   },
   "outputs": [],
   "source": [
    "trajectory = point_attractor_ff(start, end, forces, dt=dt,\n",
    "                                alpha=alpha, beta=beta)\n",
    "\n",
    "plt.plot(heart[:, 0], heart[:, 1], 'r--', lw=3)  # plot the target path\n",
    "\n",
    "plt.plot(trajectory[:, 0], trajectory[:, 1])  # system trajectory in blue\n",
    "plt.plot(trajectory[:, 0], trajectory[:, 1], 'b.')  # add blue dots at time steps\n",
    "\n",
    "plt.plot(start[0], start[1], 'bx', mew=4)  # blue x at start position\n",
    "plt.plot(end[0], end[1], 'gx', mew=4)  # green x at end position\n",
    "\n",
    "plt.legend(['desired trajectory', 'actual trajectory'])\n",
    "plt.xlim([-2, 2])\n",
    "plt.ylim([-2, 2])"
   ]
  },
  {
   "cell_type": "markdown",
   "metadata": {},
   "source": [
    "Here, the system is starting and ending at the same point in the trajectory, and it traces it out perfectly."
   ]
  },
  {
   "cell_type": "code",
   "execution_count": null,
   "metadata": {
    "collapsed": false
   },
   "outputs": [],
   "source": [
    "# For the rhythmic system\n",
    "\n",
    "alpha = 400\n",
    "beta = 100\n",
    "\n",
    "start = end = [0, 0]  # change this and run!\n",
    "forces = dd_heart - (alpha * (beta * (end - heart) - d_heart))\n",
    "\n",
    "# plot the desired accelerations and forces to apply to\n",
    "# achieve the desired accelerations\n",
    "plt.subplot(2, 1, 1)\n",
    "plt.plot(dd_heart[:, 0], alpha=.5)\n",
    "plt.gca().set_prop_cycle(None)\n",
    "plt.plot(forces[:, 0])\n",
    "plt.legend(['desired acceleration', 'forces to apply'])\n",
    "plt.title('Forces to apply')\n",
    "plt.subplot(2, 1, 2)\n",
    "plt.plot(dd_heart[:, 1], alpha=.5)\n",
    "plt.gca().set_prop_cycle(None)\n",
    "plt.plot(forces[:,1])\n",
    "plt.legend(['desired acceleration', 'forces to apply'])"
   ]
  },
  {
   "cell_type": "code",
   "execution_count": null,
   "metadata": {
    "collapsed": false
   },
   "outputs": [],
   "source": [
    "num_loops = 3\n",
    "forces = np.vstack([forces] * num_loops)\n",
    "\n",
    "trajectory = point_attractor_ff(start, end, forces, dt=dt,\n",
    "                                alpha=alpha, beta=beta)\n",
    "\n",
    "plt.plot(heart[:, 0], heart[:, 1], 'r--', lw=3)  # plot the target path\n",
    "\n",
    "plt.plot(trajectory[:, 0], trajectory[:, 1])  # system trajectory in blue\n",
    "plt.plot(trajectory[:, 0], trajectory[:, 1], 'b.')  # add blue dots at time steps\n",
    "\n",
    "plt.plot(start[0], start[1], 'bx', mew=4)  # blue x at start position\n",
    "plt.plot(end[0], end[1], 'gx', mew=4)  # green x at end position\n",
    "\n",
    "plt.legend(['desired trajectory', 'actual trajectory'])\n",
    "plt.xlim([-2, 2])\n",
    "plt.ylim([-2, 2])"
   ]
  },
  {
   "cell_type": "markdown",
   "metadata": {},
   "source": [
    "Here, we've started our system out at [0, 0], and you can see that on the first loop through it's not matching the desired trajectory. However, by the second loop through it's converged to the desired path and we're stably tracing out the heart pattern.\n",
    "\n",
    "So now we've implemented the most basic possible versions of something that resembles DMPs. But it's hopefully enough to get a feel for how these kinds of systems work. Directly we now move on to _neural_ DMPs!"
   ]
  },
  {
   "cell_type": "markdown",
   "metadata": {},
   "source": [
    "## Neural DMPs\n",
    "\n",
    "Similar to how we broke down DMPs into point attractors and a forcing function, we will first discuss implementing neural point attractors and the add in a forcing function!\n",
    "\n",
    "### Neural point attractors\n",
    "\n",
    "Our point attractor is a second order system (which means that the dynamics are defined in terms of the second derivative, acceleration):\n",
    "\n",
    "$\\ddot{y} = \\alpha \\; (\\beta \\; (y^* - y) - \\dot{y})$\n",
    "\n",
    "at each time step the system velocity, $\\dot{y}$, and position, $y$, are updated according to\n",
    "\n",
    "$\\dot{y} = \\dot{y} + \\ddot{y} * dt$\n",
    "\n",
    "$y = y + \\dot{y} * dt$\n",
    "\n",
    "To make implementation easier on ourselves, we're going to rewrite the point attractor equations as a first order system. So first we define\n",
    "\n",
    "$\\textbf{y} = \\left[ \\begin{array}{c}y \\\\ \\dot{y} \\end{array} \\right]$\n",
    "\n",
    "This lets us rewrite the dynamics as a first order system\n",
    "\n",
    "$\\dot{\\textbf{y}} = \\left[ \\begin{array}{c} \\dot{y} \\\\ \\ddot{y} \\end{array} \\right ] = \\begin{array}{c} \\dot{y} \\\\ \\alpha \\; (\\beta \\; (y^* - y) - \\dot{y}) \\end{array} = \\left[ \\begin{array}{cc}0 & 1 \\\\ - \\alpha \\beta & -\\beta \\end{array} \\right ] \\textbf{y} + \\left[ \\begin{array}{c} 0 \\\\ \\alpha\\beta \\end{array} \\right ] y^*$\n",
    "\n",
    "So the change in $\\textbf{y}$ is dependent on two parts: \n",
    "\n",
    "1) the current state of the system:\n",
    "\n",
    "$\\left[ \\begin{array}{cc}0 & 1 \\\\ - \\alpha \\beta & -\\beta \\end{array} \\right ] \\textbf{y} = \\textbf{A} \\textbf{y}$\n",
    "\n",
    "2) the system input:\n",
    "\n",
    "$\\left[ \\begin{array}{c} 0 \\\\ \\alpha \\beta \\end{array} \\right ] y^* = \\textbf{B} y^*$\n",
    "\n",
    "To implement this dynamical system in neurons, we first need to set up an ensemble that represents our variables of interest: $y$ and $\\dot{y}$. \n",
    "\n",
    "NOTE: we make it so neurons represent y OR dy, not both this makes it so that the representation of y does not interfere with the representation of dy. \n",
    "\n",
    "Because we don't need to compute any nonlinear functions of y and dy on outgoing connections this is OK! \n",
    "\n",
    "DISCUSS: does this make sense? how does this make you feel? maybe drawing some circles will help?"
   ]
  },
  {
   "cell_type": "markdown",
   "metadata": {},
   "source": [
    "Once the ensemble is created that represents our system state variables we need to implement the desired system dynamics.\n",
    "\n",
    "The above equations tell us how $\\textbf{y}$ changes over time. We broke it down into two parts, the $\\textbf{A}$ and $\\textbf{B}$ matrices, which operate on the current state and the input signal, respectively.\n",
    "\n",
    "So Y is representing our system state, and connections into Y will implement the dynamics. \n",
    "\n",
    "The first part of the dynamics work on the current state of the system, so we can implement these with a recurrent connection on Y.\n",
    "\n",
    "The second part of the dynamics operates on the input signal, so we create an input signal and project it into Y."
   ]
  },
  {
   "cell_type": "code",
   "execution_count": null,
   "metadata": {
    "collapsed": false
   },
   "outputs": [],
   "source": [
    "import nengo\n",
    "from models import point_attractor\n",
    "\n",
    "model = point_attractor.generate()\n",
    "\n",
    "from nengo_gui.ipython import IPythonViz\n",
    "IPythonViz(model, cfg='point_attractor.viz.cfg')"
   ]
  },
  {
   "cell_type": "markdown",
   "metadata": {
    "collapsed": true
   },
   "source": [
    "Alright, great! \n",
    "\n",
    "So we've now got point attractors implemented in neurons, all that's left is generating the additional forces that we need to move the system along our desired trajectory. \n",
    "\n",
    "For discrete movements, we can do this by decoding the required forces off of a ramping signal, and for rhythmic movements we can decode the required forces off of an oscillator (so that they are produced over and over and over and ...)\n",
    "\n",
    "Here we're going to look at the implementation for a rhythmic movement."
   ]
  },
  {
   "cell_type": "code",
   "execution_count": null,
   "metadata": {
    "collapsed": false
   },
   "outputs": [],
   "source": [
    "from models import forcing_functions\n",
    "from models import oscillator\n",
    "\n",
    "\n",
    "def generate(data_file, net=None, alpha=1000.0, beta=250):\n",
    "\n",
    "    # generate our forcing function\n",
    "    y_des = np.load(data_file)['arr_0'].T\n",
    "    _, force_functions, _ = forcing_functions.generate(\n",
    "        y_des, rhythmic=True, alpha=alpha, beta=beta)\n",
    "\n",
    "    net = nengo.Network(label='Rhythmic NDMP')\n",
    "    with net:\n",
    "        # --------------------- Inputs ------------------------------\n",
    "        net.input = nengo.Node(size_in=2)\n",
    "\n",
    "        # ------------------- Point Attractors ----------------------\n",
    "        x = point_attractor.generate(\n",
    "            n_neurons=500, alpha=alpha, beta=beta)\n",
    "        nengo.Connection(net.input[0], x.input[0], synapse=None)\n",
    "        \n",
    "        y = point_attractor.generate(\n",
    "            n_neurons=500, alpha=alpha, beta=beta)\n",
    "        nengo.Connection(net.input[1], y.input[0], synapse=None)\n",
    "\n",
    "        # -------------------- Oscillators --------------------------\n",
    "        kick = nengo.Node(\n",
    "            nengo.utils.functions.piecewise({0: 1, .05: 0}),\n",
    "            label='kick')\n",
    "        osc = oscillator.generate(net, n_neurons=3000, speed=.025)\n",
    "        osc.label = 'oscillator'\n",
    "        nengo.Connection(kick, osc[0])\n",
    "\n",
    "        # connect oscillator to point attractor\n",
    "        nengo.Connection(osc, x.input[1], synapse=None, **force_functions[0])\n",
    "        nengo.Connection(osc, y.input[1], synapse=None, **force_functions[1])\n",
    "\n",
    "        # -------------------- Output -------------------------------\n",
    "        net.output = nengo.Node(size_in=2)\n",
    "        nengo.Connection(x.output, net.output[0], synapse=None)\n",
    "        nengo.Connection(y.output, net.output[1], synapse=None)\n",
    "\n",
    "    return net\n",
    "\n",
    "model = generate('models/handwriting_trajectories/star.npz')\n",
    "from nengo_gui.ipython import IPythonViz\n",
    "IPythonViz(model, cfg='ndmp.viz.cfg')"
   ]
  },
  {
   "cell_type": "code",
   "execution_count": null,
   "metadata": {
    "collapsed": true
   },
   "outputs": [],
   "source": []
  }
 ],
 "metadata": {
  "kernelspec": {
   "display_name": "Python 3",
   "language": "python",
   "name": "python3"
  },
  "language_info": {
   "codemirror_mode": {
    "name": "ipython",
    "version": 3
   },
   "file_extension": ".py",
   "mimetype": "text/x-python",
   "name": "python",
   "nbconvert_exporter": "python",
   "pygments_lexer": "ipython3",
   "version": "3.5.2"
  }
 },
 "nbformat": 4,
 "nbformat_minor": 1
}
